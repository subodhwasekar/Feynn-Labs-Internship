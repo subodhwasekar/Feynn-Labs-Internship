{
  "cells": [
    {
      "cell_type": "code",
      "execution_count": null,
      "metadata": {
        "colab": {
          "base_uri": "https://localhost:8080/"
        },
        "id": "Sm4E7D1aI4AQ",
        "outputId": "5ded26e6-e9d2-4c51-8a01-3df23746ab53"
      },
      "outputs": [
        {
          "output_type": "stream",
          "name": "stdout",
          "text": [
            "Welcome to the Breast Health Chatbot!\n",
            "You can ask me questions about breast health, and I'll do my best to provide answers.\n",
            "To exit, type 'quit'.\n",
            "You: what are the symptoms of breast cancer\n",
            "Bot: Common symptoms of breast cancer include a lump in the breast, changes in breast size or shape, nipple discharge, or skin changes such as dimpling.\n",
            "You: how to treat?\n",
            "Bot: Treatment options for breast cancer depend on the stage of the cancer and may include surgery, radiation therapy, chemotherapy, hormone therapy, targeted therapy, or a combination of these treatments.\n",
            "You: what are the guidelines\n",
            "Bot: Screening guidelines for breast cancer recommend regular mammograms starting at age 40 for average-risk women. Women at higher risk may need to start screening earlier or undergo additional tests such as breast MRI.\n",
            "You: whar are the useful resources\n",
            "Bot: There are various support resources available for individuals affected by breast cancer, including support groups, counseling services, online forums, and helplines. Your healthcare provider can also provide information and referrals to resources in your area.\n",
            "You: quit\n",
            "Goodbye!\n"
          ]
        }
      ],
      "source": [
        "import spacy\n",
        "\n",
        "# Load the spaCy English language model\n",
        "nlp = spacy.load(\"en_core_web_sm\")\n",
        "\n",
        "# Define responses\n",
        "faq_responses = {\n",
        "    \"symptoms\": \"Common symptoms of breast cancer include a lump in the breast, changes in breast size or shape, nipple discharge, or skin changes such as dimpling.\",\n",
        "    \"risk\": \"Risk factors for breast cancer include age, family history, genetic mutations (e.g., BRCA1, BRCA2), hormone replacement therapy, and certain lifestyle factors such as alcohol consumption and lack of physical activity.\",\n",
        "    \"guidelines\": \"Screening guidelines for breast cancer recommend regular mammograms starting at age 40 for average-risk women. Women at higher risk may need to start screening earlier or undergo additional tests such as breast MRI.\",\n",
        "    \"examination\": \"Breast self-examination involves checking your breasts regularly for any changes or abnormalities. This can be done through visual inspection and by feeling the breasts for lumps or other unusual signs.\",\n",
        "    \"examine\": \"Breast self-examination involves checking your breasts regularly for any changes or abnormalities. This can be done through visual inspection and by feeling the breasts for lumps or other unusual signs.\",\n",
        "    \"self\": \"Breast self-examination involves checking your breasts regularly for any changes or abnormalities. This can be done through visual inspection and by feeling the breasts for lumps or other unusual signs.\",\n",
        "    \"preventions\": \"To reduce the risk of breast cancer, maintain a healthy lifestyle, limit alcohol consumption, avoid smoking, maintain a healthy weight, exercise regularly, and consider breastfeeding if possible.\",\n",
        "    \"prevent\": \"To reduce the risk of breast cancer, maintain a healthy lifestyle, limit alcohol consumption, avoid smoking, maintain a healthy weight, exercise regularly, and consider breastfeeding if possible.\",\n",
        "    \"treatment\": \"Treatment options for breast cancer depend on the stage of the cancer and may include surgery, radiation therapy, chemotherapy, hormone therapy, targeted therapy, or a combination of these treatments.\",\n",
        "    \"treat\": \"Treatment options for breast cancer depend on the stage of the cancer and may include surgery, radiation therapy, chemotherapy, hormone therapy, targeted therapy, or a combination of these treatments.\",\n",
        "    \"support\": \"There are various support resources available for individuals affected by breast cancer, including support groups, counseling services, online forums, and helplines. Your healthcare provider can also provide information and referrals to resources in your area.\",\n",
        "    \"resources\": \"There are various support resources available for individuals affected by breast cancer, including support groups, counseling services, online forums, and helplines. Your healthcare provider can also provide information and referrals to resources in your area.\"\n",
        "}\n",
        "\n",
        "# Process user input\n",
        "def respond_to_query(query):\n",
        "    query_doc = nlp(query)\n",
        "    matched_topics = [token.text.lower() for token in query_doc if token.text.lower() in faq_responses]\n",
        "    if matched_topics:\n",
        "        return faq_responses[matched_topics[0]]\n",
        "    else:\n",
        "        return \"I'm sorry, I couldn't understand your question. Please try asking something else related to breast health.\"\n",
        "\n",
        "# Interact with the user\n",
        "def main():\n",
        "    print(\"Welcome to the Breast Health Chatbot!\")\n",
        "    print(\"You can ask me questions about breast health, and I'll do my best to provide answers.\")\n",
        "    print(\"To exit, type 'quit'.\")\n",
        "\n",
        "    while True:\n",
        "        user_input = input(\"You: \")\n",
        "        if user_input.lower() == 'quit':\n",
        "            print(\"Goodbye!\")\n",
        "            break\n",
        "        response = respond_to_query(user_input)\n",
        "        print(\"Bot:\", response)\n",
        "\n",
        "if __name__ == \"__main__\":\n",
        "    main()\n"
      ]
    }
  ],
  "metadata": {
    "colab": {
      "provenance": []
    },
    "kernelspec": {
      "display_name": "Python 3",
      "name": "python3"
    },
    "language_info": {
      "name": "python"
    }
  },
  "nbformat": 4,
  "nbformat_minor": 0
}
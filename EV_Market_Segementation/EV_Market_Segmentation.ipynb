{
 "cells": [
  {
   "cell_type": "code",
   "execution_count": 1,
   "id": "abce8100-0c09-4f18-bfcb-a1e06d5ac0bc",
   "metadata": {},
   "outputs": [],
   "source": [
    "import pandas as pd\n",
    "import matplotlib.pyplot as plt\n",
    "import seaborn as sns\n",
    "from sklearn.preprocessing import LabelEncoder\n",
    "from sklearn.preprocessing import StandardScaler\n",
    "from sklearn.decomposition import PCA\n",
    "from sklearn.cluster import KMeans"
   ]
  },
  {
   "cell_type": "markdown",
   "id": "a99fd411-c6b8-4c7e-abc9-255d20217d99",
   "metadata": {},
   "source": [
    "`Exploring Data` "
   ]
  },
  {
   "cell_type": "code",
   "execution_count": 2,
   "id": "7187ad03-7880-4774-b6c8-4e9df3a41737",
   "metadata": {},
   "outputs": [],
   "source": [
    "df=pd.read_csv(\"evdata.csv\")"
   ]
  },
  {
   "cell_type": "code",
   "execution_count": 3,
   "id": "9b58df97-6c5d-4282-b482-27d21bc7f046",
   "metadata": {},
   "outputs": [
    {
     "data": {
      "text/html": [
       "<div>\n",
       "<style scoped>\n",
       "    .dataframe tbody tr th:only-of-type {\n",
       "        vertical-align: middle;\n",
       "    }\n",
       "\n",
       "    .dataframe tbody tr th {\n",
       "        vertical-align: top;\n",
       "    }\n",
       "\n",
       "    .dataframe thead th {\n",
       "        text-align: right;\n",
       "    }\n",
       "</style>\n",
       "<table border=\"1\" class=\"dataframe\">\n",
       "  <thead>\n",
       "    <tr style=\"text-align: right;\">\n",
       "      <th></th>\n",
       "      <th>Vehicle type</th>\n",
       "      <th>Model</th>\n",
       "      <th>Battery technology</th>\n",
       "      <th>Charging type</th>\n",
       "      <th>Battery capacity (kWh)</th>\n",
       "    </tr>\n",
       "  </thead>\n",
       "  <tbody>\n",
       "    <tr>\n",
       "      <th>0</th>\n",
       "      <td>2W</td>\n",
       "      <td>Electric Photon HX</td>\n",
       "      <td>Li-Ion</td>\n",
       "      <td>AC slow\\ncharging</td>\n",
       "      <td>1.872</td>\n",
       "    </tr>\n",
       "    <tr>\n",
       "      <th>1</th>\n",
       "      <td>2W</td>\n",
       "      <td>Nyx HX (Dual\\nBattery)</td>\n",
       "      <td>Li-Ion</td>\n",
       "      <td>AC slow\\ncharging</td>\n",
       "      <td>3.072</td>\n",
       "    </tr>\n",
       "    <tr>\n",
       "      <th>2</th>\n",
       "      <td>2W</td>\n",
       "      <td>NYX LX</td>\n",
       "      <td>Li-Ion</td>\n",
       "      <td>AC slow\\ncharging</td>\n",
       "      <td>1.536</td>\n",
       "    </tr>\n",
       "    <tr>\n",
       "      <th>3</th>\n",
       "      <td>2W</td>\n",
       "      <td>OPTIMA LX\\n(VRLA)</td>\n",
       "      <td>VRLA</td>\n",
       "      <td>AC slow\\ncharging</td>\n",
       "      <td>0.96</td>\n",
       "    </tr>\n",
       "    <tr>\n",
       "      <th>4</th>\n",
       "      <td>2W</td>\n",
       "      <td>Optima LX</td>\n",
       "      <td>Li-Ion</td>\n",
       "      <td>AC slow\\ncharging</td>\n",
       "      <td>1.536</td>\n",
       "    </tr>\n",
       "  </tbody>\n",
       "</table>\n",
       "</div>"
      ],
      "text/plain": [
       "  Vehicle type                   Model Battery technology      Charging type  \\\n",
       "0           2W      Electric Photon HX             Li-Ion  AC slow\\ncharging   \n",
       "1           2W  Nyx HX (Dual\\nBattery)             Li-Ion  AC slow\\ncharging   \n",
       "2           2W                  NYX LX             Li-Ion  AC slow\\ncharging   \n",
       "3           2W       OPTIMA LX\\n(VRLA)               VRLA  AC slow\\ncharging   \n",
       "4           2W               Optima LX             Li-Ion  AC slow\\ncharging   \n",
       "\n",
       "  Battery capacity (kWh)  \n",
       "0                  1.872  \n",
       "1                  3.072  \n",
       "2                  1.536  \n",
       "3                   0.96  \n",
       "4                  1.536  "
      ]
     },
     "execution_count": 3,
     "metadata": {},
     "output_type": "execute_result"
    }
   ],
   "source": [
    "df.head()"
   ]
  },
  {
   "cell_type": "code",
   "execution_count": 4,
   "id": "5f08f6fc-7622-4480-ba98-85fc6ef11d9f",
   "metadata": {},
   "outputs": [
    {
     "data": {
      "text/plain": [
       "Vehicle type              0\n",
       "Model                     0\n",
       "Battery technology        1\n",
       "Charging type             5\n",
       "Battery capacity (kWh)    7\n",
       "dtype: int64"
      ]
     },
     "execution_count": 4,
     "metadata": {},
     "output_type": "execute_result"
    }
   ],
   "source": [
    "#Checking NA vlaues\n",
    "df.isna().sum()"
   ]
  },
  {
   "cell_type": "code",
   "execution_count": 5,
   "id": "b8669ae4-565f-40a8-b455-c00472d1963e",
   "metadata": {},
   "outputs": [],
   "source": [
    "df.replace('-', pd.NA, inplace=True)\n",
    "df=df.dropna()"
   ]
  },
  {
   "cell_type": "code",
   "execution_count": 6,
   "id": "3608f782-7993-477a-a433-8493d0984f2f",
   "metadata": {},
   "outputs": [
    {
     "data": {
      "text/plain": [
       "Vehicle type              0\n",
       "Model                     0\n",
       "Battery technology        0\n",
       "Charging type             0\n",
       "Battery capacity (kWh)    0\n",
       "dtype: int64"
      ]
     },
     "execution_count": 6,
     "metadata": {},
     "output_type": "execute_result"
    }
   ],
   "source": [
    "df.isna().sum()"
   ]
  },
  {
   "cell_type": "code",
   "execution_count": 7,
   "id": "daccd945-5833-4e3f-b98a-e153b9886631",
   "metadata": {},
   "outputs": [
    {
     "data": {
      "text/plain": [
       "(101, 5)"
      ]
     },
     "execution_count": 7,
     "metadata": {},
     "output_type": "execute_result"
    }
   ],
   "source": [
    "df.shape"
   ]
  },
  {
   "cell_type": "code",
   "execution_count": 8,
   "id": "f88d081f-04db-48f5-88d8-15d74c3fb28f",
   "metadata": {},
   "outputs": [],
   "source": [
    "# Converiting categorical data to numerical\n",
    "label_encoder_vehicle = LabelEncoder()\n",
    "label_encoder_battery = LabelEncoder()\n",
    "label_encoder_charging = LabelEncoder()"
   ]
  },
  {
   "cell_type": "code",
   "execution_count": 9,
   "id": "e78bcab2-e8c9-4f20-8fa7-ace7faa60879",
   "metadata": {},
   "outputs": [],
   "source": [
    "df['Vehicle type'] = label_encoder_vehicle.fit_transform(df['Vehicle type'])\n",
    "df['Battery technology'] = label_encoder_battery.fit_transform(df['Battery technology'])\n",
    "df['Charging type'] = label_encoder_charging.fit_transform(df['Charging type'])"
   ]
  },
  {
   "cell_type": "code",
   "execution_count": 10,
   "id": "4046c146-0150-45cc-bcb7-b5ee9b8196bf",
   "metadata": {},
   "outputs": [
    {
     "name": "stdout",
     "output_type": "stream",
     "text": [
      "Vehicle Type Labels: ['2W' '3W' '4W']\n",
      "Battery Technology Labels: ['Li-Ion' 'Li-NMC' 'VRLA']\n",
      "Charging Type Labels: ['AC slow' 'AC slow\\ncharging' 'AC slow and\\nHypercharger\\n(fast)'\n",
      " 'AC slow and DC fast charging' 'AC slow charging' 'AC/DC charging'\n",
      " 'Battery Swap']\n"
     ]
    }
   ],
   "source": [
    "# Priniting Lables\n",
    "print(\"Vehicle Type Labels:\", label_encoder_vehicle.classes_)\n",
    "print(\"Battery Technology Labels:\", label_encoder_battery.classes_)\n",
    "print(\"Charging Type Labels:\", label_encoder_charging.classes_)"
   ]
  },
  {
   "cell_type": "code",
   "execution_count": 11,
   "id": "96b84e6a-9f94-46e8-aeb5-4ae06e6efedc",
   "metadata": {},
   "outputs": [],
   "source": [
    "# Creating a dictionary for label-class mappings\n",
    "label_class_mapping_vehicle = dict(zip(label_encoder_vehicle.classes_, label_encoder_vehicle.transform(label_encoder_vehicle.classes_)))\n",
    "label_class_mapping_battery = dict(zip(label_encoder_battery.classes_, label_encoder_battery.transform(label_encoder_battery.classes_)))\n",
    "label_class_mapping_charging = dict(zip(label_encoder_charging.classes_, label_encoder_charging.transform(label_encoder_charging.classes_)))"
   ]
  },
  {
   "cell_type": "code",
   "execution_count": 12,
   "id": "9c7c8514-b421-4fee-a9d3-5ae32742bb32",
   "metadata": {},
   "outputs": [
    {
     "name": "stdout",
     "output_type": "stream",
     "text": [
      "{'2W': 0, '3W': 1, '4W': 2}\n",
      "{'Li-Ion': 0, 'Li-NMC': 1, 'VRLA': 2}\n",
      "{'AC slow': 0, 'AC slow\\ncharging': 1, 'AC slow and\\nHypercharger\\n(fast)': 2, 'AC slow and DC fast charging': 3, 'AC slow charging': 4, 'AC/DC charging': 5, 'Battery Swap': 6}\n"
     ]
    }
   ],
   "source": [
    "# Printing label-class mappings\n",
    "print(label_class_mapping_vehicle)\n",
    "print(label_class_mapping_battery)\n",
    "print(label_class_mapping_charging)"
   ]
  },
  {
   "cell_type": "code",
   "execution_count": 13,
   "id": "92b60bd8-2969-4d51-8cda-ce36efa5f218",
   "metadata": {},
   "outputs": [
    {
     "data": {
      "text/html": [
       "<div>\n",
       "<style scoped>\n",
       "    .dataframe tbody tr th:only-of-type {\n",
       "        vertical-align: middle;\n",
       "    }\n",
       "\n",
       "    .dataframe tbody tr th {\n",
       "        vertical-align: top;\n",
       "    }\n",
       "\n",
       "    .dataframe thead th {\n",
       "        text-align: right;\n",
       "    }\n",
       "</style>\n",
       "<table border=\"1\" class=\"dataframe\">\n",
       "  <thead>\n",
       "    <tr style=\"text-align: right;\">\n",
       "      <th></th>\n",
       "      <th>Vehicle type</th>\n",
       "      <th>Model</th>\n",
       "      <th>Battery technology</th>\n",
       "      <th>Charging type</th>\n",
       "      <th>Battery capacity (kWh)</th>\n",
       "    </tr>\n",
       "  </thead>\n",
       "  <tbody>\n",
       "    <tr>\n",
       "      <th>0</th>\n",
       "      <td>0</td>\n",
       "      <td>Electric Photon HX</td>\n",
       "      <td>0</td>\n",
       "      <td>1</td>\n",
       "      <td>1.872</td>\n",
       "    </tr>\n",
       "    <tr>\n",
       "      <th>1</th>\n",
       "      <td>0</td>\n",
       "      <td>Nyx HX (Dual\\nBattery)</td>\n",
       "      <td>0</td>\n",
       "      <td>1</td>\n",
       "      <td>3.072</td>\n",
       "    </tr>\n",
       "    <tr>\n",
       "      <th>2</th>\n",
       "      <td>0</td>\n",
       "      <td>NYX LX</td>\n",
       "      <td>0</td>\n",
       "      <td>1</td>\n",
       "      <td>1.536</td>\n",
       "    </tr>\n",
       "    <tr>\n",
       "      <th>3</th>\n",
       "      <td>0</td>\n",
       "      <td>OPTIMA LX\\n(VRLA)</td>\n",
       "      <td>2</td>\n",
       "      <td>1</td>\n",
       "      <td>0.96</td>\n",
       "    </tr>\n",
       "    <tr>\n",
       "      <th>4</th>\n",
       "      <td>0</td>\n",
       "      <td>Optima LX</td>\n",
       "      <td>0</td>\n",
       "      <td>1</td>\n",
       "      <td>1.536</td>\n",
       "    </tr>\n",
       "  </tbody>\n",
       "</table>\n",
       "</div>"
      ],
      "text/plain": [
       "   Vehicle type                   Model  Battery technology  Charging type  \\\n",
       "0             0      Electric Photon HX                   0              1   \n",
       "1             0  Nyx HX (Dual\\nBattery)                   0              1   \n",
       "2             0                  NYX LX                   0              1   \n",
       "3             0       OPTIMA LX\\n(VRLA)                   2              1   \n",
       "4             0               Optima LX                   0              1   \n",
       "\n",
       "  Battery capacity (kWh)  \n",
       "0                  1.872  \n",
       "1                  3.072  \n",
       "2                  1.536  \n",
       "3                   0.96  \n",
       "4                  1.536  "
      ]
     },
     "execution_count": 13,
     "metadata": {},
     "output_type": "execute_result"
    }
   ],
   "source": [
    "df.head()"
   ]
  },
  {
   "cell_type": "markdown",
   "id": "bee2599a-98dc-4974-9286-852ce85d6dc1",
   "metadata": {},
   "source": [
    "`Principal Component Analysis`"
   ]
  },
  {
   "cell_type": "code",
   "execution_count": 14,
   "id": "9e026582-acd3-4b93-b030-68d123415e04",
   "metadata": {},
   "outputs": [],
   "source": [
    "# Extracting features for pca\n",
    "X=df[['Vehicle type','Battery technology','Charging type','Battery capacity (kWh)']]"
   ]
  },
  {
   "cell_type": "code",
   "execution_count": 15,
   "id": "4fba6e96-86e8-446a-ac84-65bdc94af892",
   "metadata": {},
   "outputs": [],
   "source": [
    "# Standardizing the features\n",
    "scaler=StandardScaler()\n",
    "X_scaled=scaler.fit_transform(X)"
   ]
  },
  {
   "cell_type": "code",
   "execution_count": 16,
   "id": "9c76878c-4940-46e2-aa9b-372284a4661d",
   "metadata": {},
   "outputs": [
    {
     "data": {
      "text/plain": [
       "array([[-0.92238026, -0.78219274, -0.52530028, -0.38671826],\n",
       "       [-0.92238026, -0.78219274, -0.52530028, -0.3222505 ],\n",
       "       [-0.92238026, -0.78219274, -0.52530028, -0.40476924],\n",
       "       [-0.92238026,  1.38223101, -0.52530028, -0.43571376],\n",
       "       [-0.92238026, -0.78219274, -0.52530028, -0.40476924],\n",
       "       [-0.92238026, -0.78219274, -0.52530028, -0.3222505 ],\n",
       "       [-0.92238026, -0.78219274, -0.52530028, -0.40476924],\n",
       "       [-0.92238026,  1.38223101, -0.52530028, -0.43571376],\n",
       "       [-0.92238026, -0.78219274, -0.52530028, -0.40476924],\n",
       "       [-0.92238026, -0.78219274, -0.52530028, -0.40476924],\n",
       "       [-0.92238026, -0.78219274, -0.03404724, -0.32719303],\n",
       "       [-0.92238026, -0.78219274, -0.03404724, -0.27400713],\n",
       "       [-0.92238026, -0.78219274, -0.52530028, -0.39380972],\n",
       "       [-0.92238026, -0.78219274, -0.52530028, -0.31000163],\n",
       "       [-0.92238026, -0.78219274, -0.52530028, -0.3798417 ],\n",
       "       [-0.92238026, -0.78219274, -0.52530028, -0.42013405],\n",
       "       [-0.92238026, -0.78219274, -0.52530028, -0.41529897],\n",
       "       [-0.92238026, -0.78219274, -0.52530028, -0.3454589 ],\n",
       "       [-0.92238026, -0.78219274,  0.94845884, -0.39058633],\n",
       "       [-0.92238026, -0.78219274,  0.94845884, -0.3970331 ],\n",
       "       [-0.92238026,  1.38223101,  0.94845884, -0.41766279],\n",
       "       [-0.92238026, -0.78219274,  0.94845884, -0.41508408],\n",
       "       [-0.92238026,  1.38223101,  0.94845884, -0.43571376],\n",
       "       [-0.92238026, -0.78219274,  0.94845884, -0.42539892],\n",
       "       [-0.92238026,  1.38223101,  0.94845884, -0.41766279],\n",
       "       [-0.92238026, -0.78219274,  0.94845884, -0.41508408],\n",
       "       [-0.92238026,  1.38223101,  0.94845884, -0.41766279],\n",
       "       [-0.92238026,  1.38223101,  0.94845884, -0.41766279],\n",
       "       [-0.92238026, -0.78219274,  0.4572058 , -0.33149088],\n",
       "       [-0.92238026, -0.78219274,  0.4572058 , -0.33149088],\n",
       "       [-0.92238026, -0.78219274,  0.94845884, -0.34223551],\n",
       "       [-0.92238026, -0.78219274,  0.94845884, -0.31322502],\n",
       "       [-0.92238026, -0.78219274,  0.94845884, -0.3368632 ],\n",
       "       [-0.92238026,  0.30001913,  0.94845884, -0.36641092],\n",
       "       [-0.92238026,  0.30001913,  0.94845884, -0.3368632 ],\n",
       "       [-0.92238026,  1.38223101,  0.94845884, -0.42282021],\n",
       "       [-0.92238026, -0.78219274,  0.94845884, -0.41637343],\n",
       "       [-0.92238026,  1.38223101,  0.94845884, -0.43571376],\n",
       "       [-0.92238026, -0.78219274,  0.94845884, -0.42539892],\n",
       "       [-0.92238026,  1.38223101,  0.94845884, -0.42282021],\n",
       "       [-0.92238026, -0.78219274,  0.94845884, -0.41637343],\n",
       "       [-0.92238026, -0.78219274,  0.94845884, -0.37769278],\n",
       "       [-0.92238026, -0.78219274, -1.01655332, -0.43227548],\n",
       "       [-0.92238026,  0.30001913,  0.94845884, -0.35835245],\n",
       "       [-0.92238026,  0.30001913,  0.94845884, -0.35835245],\n",
       "       [-0.92238026,  0.30001913,  0.94845884, -0.35835245],\n",
       "       [-0.92238026,  0.30001913,  0.94845884, -0.35835245],\n",
       "       [-0.92238026,  0.30001913,  0.94845884, -0.33149088],\n",
       "       [-0.92238026, -0.78219274,  0.94845884, -0.32611857],\n",
       "       [ 0.51085676, -0.78219274, -1.01655332, -0.28904961],\n",
       "       [ 0.51085676, -0.78219274, -1.01655332, -0.09134848],\n",
       "       [ 0.51085676, -0.78219274, -1.01655332, -0.09134848],\n",
       "       [ 0.51085676, -0.78219274, -1.01655332, -0.26702312],\n",
       "       [ 0.51085676, -0.78219274,  1.93096491, -0.0575029 ],\n",
       "       [ 0.51085676, -0.78219274, -1.01655332, -0.24553387],\n",
       "       [ 0.51085676, -0.78219274, -1.01655332, -0.05213059],\n",
       "       [ 0.51085676, -0.78219274, -1.01655332, -0.05213059],\n",
       "       [ 0.51085676, -0.78219274, -1.01655332, -0.28851238],\n",
       "       [ 0.51085676, -0.78219274, -1.01655332, -0.2562785 ],\n",
       "       [ 0.51085676,  1.38223101, -1.01655332, -0.17784272],\n",
       "       [ 0.51085676,  1.38223101, -1.01655332, -0.15205562],\n",
       "       [ 0.51085676,  1.38223101, -1.01655332, -0.17784272],\n",
       "       [ 0.51085676,  1.38223101, -1.01655332, -0.28099114],\n",
       "       [ 0.51085676,  1.38223101, -1.01655332, -0.28099114],\n",
       "       [ 0.51085676,  1.38223101, -1.01655332, -0.28099114],\n",
       "       [ 0.51085676,  1.38223101, -1.01655332, -0.22941693],\n",
       "       [ 0.51085676,  1.38223101, -1.01655332, -0.22941693],\n",
       "       [ 0.51085676,  1.38223101, -1.01655332, -0.29388469],\n",
       "       [ 0.51085676,  1.38223101, -1.01655332, -0.29388469],\n",
       "       [ 0.51085676,  1.38223101, -1.01655332, -0.299257  ],\n",
       "       [ 0.51085676, -0.78219274, -1.01655332, -0.20792767],\n",
       "       [ 0.51085676, -0.78219274, -1.01655332, -0.20792767],\n",
       "       [ 0.51085676, -0.78219274, -1.01655332, -0.20792767],\n",
       "       [ 0.51085676, -0.78219274, -1.01655332, -0.20792767],\n",
       "       [ 0.51085676, -0.78219274, -1.01655332, -0.20792767],\n",
       "       [ 0.51085676, -0.78219274, -1.01655332, -0.20792767],\n",
       "       [ 0.51085676,  1.38223101, -1.01655332, -0.22941693],\n",
       "       [ 0.51085676,  1.38223101, -1.01655332, -0.28099114],\n",
       "       [ 0.51085676,  1.38223101, -1.01655332, -0.10048141],\n",
       "       [ 0.51085676,  1.38223101, -1.01655332, -0.10048141],\n",
       "       [ 0.51085676,  1.38223101, -1.01655332, -0.22941693],\n",
       "       [ 0.51085676,  1.38223101, -1.01655332, -0.10048141],\n",
       "       [ 0.51085676,  1.38223101, -1.01655332, -0.22941693],\n",
       "       [ 0.51085676,  1.38223101, -1.01655332, -0.26809758],\n",
       "       [ 0.51085676,  1.38223101, -1.01655332, -0.17784272],\n",
       "       [ 0.51085676,  1.38223101, -1.01655332, -0.17784272],\n",
       "       [ 0.51085676,  1.38223101, -1.01655332, -0.22941693],\n",
       "       [ 0.51085676,  1.38223101, -1.01655332, -0.22941693],\n",
       "       [ 1.94409377, -0.78219274,  1.43971188,  1.61865886],\n",
       "       [ 1.94409377, -0.78219274,  1.43971188,  1.13515066],\n",
       "       [ 1.94409377, -0.78219274,  1.43971188,  0.9095135 ],\n",
       "       [ 1.94409377, -0.78219274,  1.43971188,  0.09292187],\n",
       "       [ 1.94409377, -0.78219274,  1.43971188,  0.50927616],\n",
       "       [ 1.94409377, -0.78219274,  1.43971188,  0.28632515],\n",
       "       [ 1.94409377, -0.78219274,  1.43971188,  1.90339147],\n",
       "       [ 1.94409377, -0.78219274,  1.43971188,  3.8105627 ],\n",
       "       [ 1.94409377, -0.78219274,  1.43971188,  4.34779404],\n",
       "       [ 1.94409377, -0.78219274,  1.43971188,  3.62790405],\n",
       "       [ 1.94409377, -0.78219274,  1.43971188,  4.00933829],\n",
       "       [ 1.94409377, -0.78219274,  1.43971188,  4.53045269],\n",
       "       [ 1.94409377, -0.78219274,  1.43971188, -0.05213059]])"
      ]
     },
     "execution_count": 16,
     "metadata": {},
     "output_type": "execute_result"
    }
   ],
   "source": [
    "X_scaled"
   ]
  },
  {
   "cell_type": "code",
   "execution_count": 17,
   "id": "31d98099-a626-4cf4-95db-9230e041e5c9",
   "metadata": {},
   "outputs": [],
   "source": [
    "# Applying pca\n",
    "pca=PCA(n_components=2)\n",
    "X_pca=pca.fit_transform(X_scaled)"
   ]
  },
  {
   "cell_type": "code",
   "execution_count": 18,
   "id": "13cc6a4a-78bb-4dce-aab4-babeef9a220e",
   "metadata": {},
   "outputs": [
    {
     "name": "stdout",
     "output_type": "stream",
     "text": [
      "Explained Variance Ratio: [0.46400949 0.29424059]\n",
      "Principal Components:\n",
      "[[ 0.51499682 -0.3289456   0.4235264   0.66872899]\n",
      " [ 0.57926599  0.59048024 -0.53191888  0.1812355 ]]\n"
     ]
    }
   ],
   "source": [
    "print(\"Explained Variance Ratio:\", pca.explained_variance_ratio_)\n",
    "# Printing principal components\n",
    "print(\"Principal Components:\")\n",
    "print(pca.components_)"
   ]
  },
  {
   "cell_type": "markdown",
   "id": "7a4bf05b-d04b-45ee-b91c-216d93bccc00",
   "metadata": {},
   "source": [
    "`K-means Clustering`"
   ]
  },
  {
   "cell_type": "code",
   "execution_count": 19,
   "id": "62b2bf19-c729-4a0e-a032-e3fdb4201748",
   "metadata": {},
   "outputs": [],
   "source": [
    "# Finding the  optimal number of clusters using the Elbow Method\n",
    "wcss = [] #wcss: within cluster sum of squares \n",
    "for i in range(1, 11):\n",
    "    kmeans = KMeans(n_clusters=i, init='k-means++', max_iter=300, n_init=10, random_state=42)\n",
    "    kmeans.fit(X_pca)\n",
    "    wcss.append(kmeans.inertia_)"
   ]
  },
  {
   "cell_type": "code",
   "execution_count": 20,
   "id": "64ba5ab8-c418-4fce-90e4-1707ffd1237b",
   "metadata": {},
   "outputs": [
    {
     "data": {
      "image/png": "[encoded data removed]",
      "text/plain": [
       "<Figure size 640x480 with 1 Axes>"
      ]
     },
     "metadata": {},
     "output_type": "display_data"
    }
   ],
   "source": [
    "#Elbow Method graph Plot\n",
    "plt.plot(range(1, 11), wcss)\n",
    "plt.title('Elbow Method')\n",
    "plt.xlabel('Number of clusters')\n",
    "plt.ylabel('WCSS')  \n",
    "plt.show()"
   ]
  },
  {
   "cell_type": "code",
   "execution_count": 21,
   "id": "26200877-163d-472e-9ab8-5413e3920fc7",
   "metadata": {},
   "outputs": [],
   "source": [
    "# From above graph \n",
    "optimal_num_clusters=7"
   ]
  },
  {
   "cell_type": "code",
   "execution_count": 22,
   "id": "d7030280-8292-4269-a98a-4086c221a069",
   "metadata": {},
   "outputs": [],
   "source": [
    "# Applying K-means clustering with the optimal number of clusters\n",
    "kmeans = KMeans(n_clusters=optimal_num_clusters, init='k-means++', max_iter=300, n_init=10, random_state=42)\n",
    "df['Segment'] = kmeans.fit_predict(X_pca)"
   ]
  },
  {
   "cell_type": "code",
   "execution_count": 23,
   "id": "f47d6dee-a119-49d5-bd99-c57e8ec18f8f",
   "metadata": {},
   "outputs": [
    {
     "data": {
      "image/png": "[encoded data removed]",
      "text/plain": [
       "<Figure size 640x480 with 1 Axes>"
      ]
     },
     "metadata": {},
     "output_type": "display_data"
    }
   ],
   "source": [
    "# Visualizing the clusters\n",
    "plt.scatter(X_pca[:,0], X_pca[:,1], c=df['Segment'], cmap='viridis', marker='o', alpha=0.5)\n",
    "plt.title('PCA with K-means Clustering')\n",
    "plt.xlabel('Principal Component 1')\n",
    "plt.ylabel('Principal Component 2')\n",
    "plt.show()"
   ]
  },
  {
   "cell_type": "markdown",
   "id": "b4814f26-bea4-4d35-9321-fe94f18a0645",
   "metadata": {},
   "source": [
    "`Segment Profiling`"
   ]
  },
  {
   "cell_type": "code",
   "execution_count": 24,
   "id": "871df873-e2c7-4a0a-8feb-60272fca10fc",
   "metadata": {},
   "outputs": [],
   "source": [
    "# Changing datatype of Battery capacity column\n",
    "df['Battery capacity (kWh)'] = pd.to_numeric(df['Battery capacity (kWh)'], errors='coerce')"
   ]
  },
  {
   "cell_type": "code",
   "execution_count": 25,
   "id": "013c071c-cb8a-40d5-be2d-34f6d650022b",
   "metadata": {},
   "outputs": [
    {
     "data": {
      "text/plain": [
       "Vehicle type              0\n",
       "Model                     0\n",
       "Battery technology        0\n",
       "Charging type             0\n",
       "Battery capacity (kWh)    0\n",
       "Segment                   0\n",
       "dtype: int64"
      ]
     },
     "execution_count": 25,
     "metadata": {},
     "output_type": "execute_result"
    }
   ],
   "source": [
    "df.isna().sum()"
   ]
  },
  {
   "cell_type": "code",
   "execution_count": 26,
   "id": "032303a0-bd6f-4fea-a24e-05f03d173e45",
   "metadata": {},
   "outputs": [
    {
     "name": "stdout",
     "output_type": "stream",
     "text": [
      "         Vehicle type  Battery technology  Charging type  \\\n",
      "Segment                                                    \n",
      "0              0.0000            1.818182       3.090909   \n",
      "1              2.0000            0.000000       5.000000   \n",
      "2              0.0625            0.000000       4.000000   \n",
      "3              1.0000            2.000000       0.000000   \n",
      "4              2.0000            0.000000       5.000000   \n",
      "5              0.0000            0.304348       2.000000   \n",
      "6              1.0000            0.000000       0.000000   \n",
      "\n",
      "         Battery capacity (kWh)  Segment  \n",
      "Segment                                   \n",
      "0                      1.131636      0.0  \n",
      "1                     84.740000      1.0  \n",
      "2                      2.418250      2.0  \n",
      "3                      4.983478      3.0  \n",
      "4                     23.968750      4.0  \n",
      "5                      2.281130      5.0  \n",
      "6                      5.495333      6.0  \n"
     ]
    }
   ],
   "source": [
    "# Selecting numeric columns from dataset\n",
    "numeric_columns = df.select_dtypes(include=['number']).columns\n",
    "\n",
    "# Calculating mean of each features within each clusters\n",
    "segment_profile = df.groupby('Segment')[numeric_columns].mean()\n",
    "print(segment_profile)"
   ]
  },
  {
   "cell_type": "markdown",
   "id": "f9178b94-dfbc-4442-8ea0-d80003c8bba4",
   "metadata": {},
   "source": [
    "`Target Segment Selection`"
   ]
  },
  {
   "cell_type": "code",
   "execution_count": 27,
   "id": "3387d892-7d3f-4ab5-8864-1d230f35cf38",
   "metadata": {},
   "outputs": [
    {
     "name": "stdout",
     "output_type": "stream",
     "text": [
      "Target Segment: 1\n"
     ]
    }
   ],
   "source": [
    "# Based on  highest battery capacity\n",
    "target_segment = segment_profile['Battery capacity (kWh)'].idxmax()\n",
    "print(\"Target Segment:\", target_segment)"
   ]
  },
  {
   "cell_type": "code",
   "execution_count": 28,
   "id": "0f27c6ea-de5d-4f6c-b6d7-929f3cdc3f59",
   "metadata": {},
   "outputs": [
    {
     "name": "stdout",
     "output_type": "stream",
     "text": [
      "Selected Segment:\n",
      "          Vehicle type  Battery technology  Charging type  \\\n",
      "Segment                                                    \n",
      "6                 1.0                 0.0            0.0   \n",
      "\n",
      "         Battery capacity (kWh)  Segment  \n",
      "Segment                                   \n",
      "6                      5.495333      6.0  \n"
     ]
    }
   ],
   "source": [
    "# Based on vehicle type and battery technology\n",
    "segment_profile[['Vehicle type', 'Battery technology']]\n",
    "selected_segment = segment_profile[(segment_profile['Vehicle type'] == 1) & (segment_profile['Battery technology'] == 0)]\n",
    "print(\"Selected Segment:\\n\", selected_segment)"
   ]
  }
 ],
 "metadata": {
  "kernelspec": {
   "display_name": "evms",
   "language": "python",
   "name": "evms"
  },
  "language_info": {
   "codemirror_mode": {
    "name": "ipython",
    "version": 3
   },
   "file_extension": ".py",
   "mimetype": "text/x-python",
   "name": "python",
   "nbconvert_exporter": "python",
   "pygments_lexer": "ipython3",
   "version": "3.11.0"
  }
 },
 "nbformat": 4,
 "nbformat_minor": 5
}
